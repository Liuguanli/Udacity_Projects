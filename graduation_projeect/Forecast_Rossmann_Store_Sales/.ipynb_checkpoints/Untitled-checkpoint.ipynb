{
 "cells": [
  {
   "cell_type": "code",
   "execution_count": 4,
   "metadata": {},
   "outputs": [],
   "source": [
    "library(data.table)\n",
    "library(zoo)\n",
    "library(forecast)\n",
    "library(dplyr)  "
   ]
  },
  {
   "cell_type": "code",
   "execution_count": 5,
   "metadata": {},
   "outputs": [],
   "source": [
    "library(ggplot2)\n",
    "test <- fread(\"./dataset/test.csv\")\n",
    "train <- fread(\"./dataset/train.csv\")\n",
    "store <- fread(\"./dataset/store.csv\")"
   ]
  },
  {
   "cell_type": "code",
   "execution_count": 6,
   "metadata": {},
   "outputs": [
    {
     "name": "stdout",
     "output_type": "stream",
     "text": [
      "Classes 'data.table' and 'data.frame':\t1017209 obs. of  9 variables:\n",
      " $ Store        : int  1 2 3 4 5 6 7 8 9 10 ...\n",
      " $ DayOfWeek    : int  5 5 5 5 5 5 5 5 5 5 ...\n",
      " $ Date         : chr  \"2015-07-31\" \"2015-07-31\" \"2015-07-31\" \"2015-07-31\" ...\n",
      " $ Sales        : int  5263 6064 8314 13995 4822 5651 15344 8492 8565 7185 ...\n",
      " $ Customers    : int  555 625 821 1498 559 589 1414 833 687 681 ...\n",
      " $ Open         : int  1 1 1 1 1 1 1 1 1 1 ...\n",
      " $ Promo        : int  1 1 1 1 1 1 1 1 1 1 ...\n",
      " $ StateHoliday : chr  \"0\" \"0\" \"0\" \"0\" ...\n",
      " $ SchoolHoliday: int  1 1 1 1 1 1 1 1 1 1 ...\n",
      " - attr(*, \".internal.selfref\")=<externalptr> \n"
     ]
    },
    {
     "data": {},
     "metadata": {},
     "output_type": "display_data"
    },
    {
     "data": {
      "image/png": "[encoded data removed]",
      "text/plain": [
       "plot without title"
      ]
     },
     "metadata": {},
     "output_type": "display_data"
    }
   ],
   "source": [
    "str(train)\n",
    "by_Date <- train %>% group_by(Date) %>% summarise(NumStores=n())\n",
    "ggplot(by_Date, aes(x=Date,y=NumStores,group = 1)) + geom_line()"
   ]
  },
  {
   "cell_type": "code",
   "execution_count": 7,
   "metadata": {},
   "outputs": [
    {
     "name": "stdout",
     "output_type": "stream",
     "text": [
      "Classes 'data.table' and 'data.frame':\t41088 obs. of  8 variables:\n",
      " $ Id           : int  1 2 3 4 5 6 7 8 9 10 ...\n",
      " $ Store        : int  1 3 7 8 9 10 11 12 13 14 ...\n",
      " $ DayOfWeek    : int  4 4 4 4 4 4 4 4 4 4 ...\n",
      " $ Date         : chr  \"2015-09-17\" \"2015-09-17\" \"2015-09-17\" \"2015-09-17\" ...\n",
      " $ Open         : int  1 1 1 1 1 1 1 1 1 1 ...\n",
      " $ Promo        : int  1 1 1 1 1 1 1 1 1 1 ...\n",
      " $ StateHoliday : chr  \"0\" \"0\" \"0\" \"0\" ...\n",
      " $ SchoolHoliday: int  0 0 0 0 0 0 0 0 0 0 ...\n",
      " - attr(*, \".internal.selfref\")=<externalptr> \n"
     ]
    }
   ],
   "source": [
    "str(test)"
   ]
  },
  {
   "cell_type": "code",
   "execution_count": 8,
   "metadata": {},
   "outputs": [
    {
     "name": "stdout",
     "output_type": "stream",
     "text": [
      "Classes 'data.table' and 'data.frame':\t1115 obs. of  10 variables:\n",
      " $ Store                    : int  1 2 3 4 5 6 7 8 9 10 ...\n",
      " $ StoreType                : chr  \"c\" \"a\" \"a\" \"c\" ...\n",
      " $ Assortment               : chr  \"a\" \"a\" \"a\" \"c\" ...\n",
      " $ CompetitionDistance      : int  1270 570 14130 620 29910 310 24000 7520 2030 3160 ...\n",
      " $ CompetitionOpenSinceMonth: int  9 11 12 9 4 12 4 10 8 9 ...\n",
      " $ CompetitionOpenSinceYear : int  2008 2007 2006 2009 2015 2013 2013 2014 2000 2009 ...\n",
      " $ Promo2                   : int  0 1 1 0 0 0 0 0 0 0 ...\n",
      " $ Promo2SinceWeek          : int  NA 13 14 NA NA NA NA NA NA NA ...\n",
      " $ Promo2SinceYear          : int  NA 2010 2011 NA NA NA NA NA NA NA ...\n",
      " $ PromoInterval            : chr  \"\" \"Jan,Apr,Jul,Oct\" \"Jan,Apr,Jul,Oct\" \"\" ...\n",
      " - attr(*, \".internal.selfref\")=<externalptr> \n"
     ]
    }
   ],
   "source": [
    "str(store)"
   ]
  },
  {
   "cell_type": "code",
   "execution_count": 9,
   "metadata": {},
   "outputs": [
    {
     "data": {
      "text/html": [
       "<table>\n",
       "<thead><tr><th scope=col>Store</th><th scope=col>DayOfWeek</th><th scope=col>Date</th><th scope=col>Sales</th><th scope=col>Customers</th><th scope=col>Open</th><th scope=col>Promo</th><th scope=col>StateHoliday</th><th scope=col>SchoolHoliday</th></tr></thead>\n",
       "<tbody>\n",
       "\t<tr><td>1         </td><td>5         </td><td>2015-07-31</td><td> 5263     </td><td> 555      </td><td>1         </td><td>1         </td><td>0         </td><td>1         </td></tr>\n",
       "\t<tr><td>2         </td><td>5         </td><td>2015-07-31</td><td> 6064     </td><td> 625      </td><td>1         </td><td>1         </td><td>0         </td><td>1         </td></tr>\n",
       "\t<tr><td>3         </td><td>5         </td><td>2015-07-31</td><td> 8314     </td><td> 821      </td><td>1         </td><td>1         </td><td>0         </td><td>1         </td></tr>\n",
       "\t<tr><td>4         </td><td>5         </td><td>2015-07-31</td><td>13995     </td><td>1498      </td><td>1         </td><td>1         </td><td>0         </td><td>1         </td></tr>\n",
       "\t<tr><td>5         </td><td>5         </td><td>2015-07-31</td><td> 4822     </td><td> 559      </td><td>1         </td><td>1         </td><td>0         </td><td>1         </td></tr>\n",
       "\t<tr><td>6         </td><td>5         </td><td>2015-07-31</td><td> 5651     </td><td> 589      </td><td>1         </td><td>1         </td><td>0         </td><td>1         </td></tr>\n",
       "</tbody>\n",
       "</table>\n"
      ],
      "text/latex": [
       "\\begin{tabular}{r|lllllllll}\n",
       " Store & DayOfWeek & Date & Sales & Customers & Open & Promo & StateHoliday & SchoolHoliday\\\\\n",
       "\\hline\n",
       "\t 1          & 5          & 2015-07-31 &  5263      &  555       & 1          & 1          & 0          & 1         \\\\\n",
       "\t 2          & 5          & 2015-07-31 &  6064      &  625       & 1          & 1          & 0          & 1         \\\\\n",
       "\t 3          & 5          & 2015-07-31 &  8314      &  821       & 1          & 1          & 0          & 1         \\\\\n",
       "\t 4          & 5          & 2015-07-31 & 13995      & 1498       & 1          & 1          & 0          & 1         \\\\\n",
       "\t 5          & 5          & 2015-07-31 &  4822      &  559       & 1          & 1          & 0          & 1         \\\\\n",
       "\t 6          & 5          & 2015-07-31 &  5651      &  589       & 1          & 1          & 0          & 1         \\\\\n",
       "\\end{tabular}\n"
      ],
      "text/markdown": [
       "\n",
       "Store | DayOfWeek | Date | Sales | Customers | Open | Promo | StateHoliday | SchoolHoliday | \n",
       "|---|---|---|---|---|---|\n",
       "| 1          | 5          | 2015-07-31 |  5263      |  555       | 1          | 1          | 0          | 1          | \n",
       "| 2          | 5          | 2015-07-31 |  6064      |  625       | 1          | 1          | 0          | 1          | \n",
       "| 3          | 5          | 2015-07-31 |  8314      |  821       | 1          | 1          | 0          | 1          | \n",
       "| 4          | 5          | 2015-07-31 | 13995      | 1498       | 1          | 1          | 0          | 1          | \n",
       "| 5          | 5          | 2015-07-31 |  4822      |  559       | 1          | 1          | 0          | 1          | \n",
       "| 6          | 5          | 2015-07-31 |  5651      |  589       | 1          | 1          | 0          | 1          | \n",
       "\n",
       "\n"
      ],
      "text/plain": [
       "  Store DayOfWeek Date       Sales Customers Open Promo StateHoliday\n",
       "1 1     5         2015-07-31  5263  555      1    1     0           \n",
       "2 2     5         2015-07-31  6064  625      1    1     0           \n",
       "3 3     5         2015-07-31  8314  821      1    1     0           \n",
       "4 4     5         2015-07-31 13995 1498      1    1     0           \n",
       "5 5     5         2015-07-31  4822  559      1    1     0           \n",
       "6 6     5         2015-07-31  5651  589      1    1     0           \n",
       "  SchoolHoliday\n",
       "1 1            \n",
       "2 1            \n",
       "3 1            \n",
       "4 1            \n",
       "5 1            \n",
       "6 1            "
      ]
     },
     "metadata": {},
     "output_type": "display_data"
    }
   ],
   "source": [
    "head(train)"
   ]
  },
  {
   "cell_type": "code",
   "execution_count": 10,
   "metadata": {},
   "outputs": [
    {
     "data": {},
     "metadata": {},
     "output_type": "display_data"
    },
    {
     "data": {
      "text/html": [
       "<table>\n",
       "<thead><tr><th scope=col>Store</th><th scope=col>DayOfWeek</th><th scope=col>Date</th><th scope=col>Sales</th><th scope=col>Customers</th><th scope=col>Open</th><th scope=col>Promo</th><th scope=col>StateHoliday</th><th scope=col>SchoolHoliday</th></tr></thead>\n",
       "<tbody>\n",
       "\t<tr><td>1         </td><td>5         </td><td>2015-07-31</td><td> 5263     </td><td> 555      </td><td>1         </td><td>1         </td><td>0         </td><td>1         </td></tr>\n",
       "\t<tr><td>2         </td><td>5         </td><td>2015-07-31</td><td> 6064     </td><td> 625      </td><td>1         </td><td>1         </td><td>0         </td><td>1         </td></tr>\n",
       "\t<tr><td>3         </td><td>5         </td><td>2015-07-31</td><td> 8314     </td><td> 821      </td><td>1         </td><td>1         </td><td>0         </td><td>1         </td></tr>\n",
       "\t<tr><td>4         </td><td>5         </td><td>2015-07-31</td><td>13995     </td><td>1498      </td><td>1         </td><td>1         </td><td>0         </td><td>1         </td></tr>\n",
       "\t<tr><td>5         </td><td>5         </td><td>2015-07-31</td><td> 4822     </td><td> 559      </td><td>1         </td><td>1         </td><td>0         </td><td>1         </td></tr>\n",
       "\t<tr><td>6         </td><td>5         </td><td>2015-07-31</td><td> 5651     </td><td> 589      </td><td>1         </td><td>1         </td><td>0         </td><td>1         </td></tr>\n",
       "</tbody>\n",
       "</table>\n"
      ],
      "text/latex": [
       "\\begin{tabular}{r|lllllllll}\n",
       " Store & DayOfWeek & Date & Sales & Customers & Open & Promo & StateHoliday & SchoolHoliday\\\\\n",
       "\\hline\n",
       "\t 1          & 5          & 2015-07-31 &  5263      &  555       & 1          & 1          & 0          & 1         \\\\\n",
       "\t 2          & 5          & 2015-07-31 &  6064      &  625       & 1          & 1          & 0          & 1         \\\\\n",
       "\t 3          & 5          & 2015-07-31 &  8314      &  821       & 1          & 1          & 0          & 1         \\\\\n",
       "\t 4          & 5          & 2015-07-31 & 13995      & 1498       & 1          & 1          & 0          & 1         \\\\\n",
       "\t 5          & 5          & 2015-07-31 &  4822      &  559       & 1          & 1          & 0          & 1         \\\\\n",
       "\t 6          & 5          & 2015-07-31 &  5651      &  589       & 1          & 1          & 0          & 1         \\\\\n",
       "\\end{tabular}\n"
      ],
      "text/markdown": [
       "\n",
       "Store | DayOfWeek | Date | Sales | Customers | Open | Promo | StateHoliday | SchoolHoliday | \n",
       "|---|---|---|---|---|---|\n",
       "| 1          | 5          | 2015-07-31 |  5263      |  555       | 1          | 1          | 0          | 1          | \n",
       "| 2          | 5          | 2015-07-31 |  6064      |  625       | 1          | 1          | 0          | 1          | \n",
       "| 3          | 5          | 2015-07-31 |  8314      |  821       | 1          | 1          | 0          | 1          | \n",
       "| 4          | 5          | 2015-07-31 | 13995      | 1498       | 1          | 1          | 0          | 1          | \n",
       "| 5          | 5          | 2015-07-31 |  4822      |  559       | 1          | 1          | 0          | 1          | \n",
       "| 6          | 5          | 2015-07-31 |  5651      |  589       | 1          | 1          | 0          | 1          | \n",
       "\n",
       "\n"
      ],
      "text/plain": [
       "  Store DayOfWeek Date       Sales Customers Open Promo StateHoliday\n",
       "1 1     5         2015-07-31  5263  555      1    1     0           \n",
       "2 2     5         2015-07-31  6064  625      1    1     0           \n",
       "3 3     5         2015-07-31  8314  821      1    1     0           \n",
       "4 4     5         2015-07-31 13995 1498      1    1     0           \n",
       "5 5     5         2015-07-31  4822  559      1    1     0           \n",
       "6 6     5         2015-07-31  5651  589      1    1     0           \n",
       "  SchoolHoliday\n",
       "1 1            \n",
       "2 1            \n",
       "3 1            \n",
       "4 1            \n",
       "5 1            \n",
       "6 1            "
      ]
     },
     "metadata": {},
     "output_type": "display_data"
    }
   ],
   "source": [
    "train[, Date := as.Date(Date)]\n",
    "head(train)"
   ]
  },
  {
   "cell_type": "code",
   "execution_count": 13,
   "metadata": {},
   "outputs": [
    {
     "data": {
      "text/html": [
       "<table>\n",
       "<thead><tr><th scope=col>Store</th><th scope=col>StoreType</th><th scope=col>Assortment</th><th scope=col>CompetitionDistance</th><th scope=col>CompetitionOpenSinceMonth</th><th scope=col>CompetitionOpenSinceYear</th><th scope=col>Promo2</th><th scope=col>Promo2SinceWeek</th><th scope=col>Promo2SinceYear</th><th scope=col>PromoInterval</th></tr></thead>\n",
       "<tbody>\n",
       "\t<tr><td>1              </td><td>c              </td><td>a              </td><td> 1270          </td><td> 9             </td><td>2008           </td><td>0              </td><td>NA             </td><td>  NA           </td><td>               </td></tr>\n",
       "\t<tr><td>2              </td><td>a              </td><td>a              </td><td>  570          </td><td>11             </td><td>2007           </td><td>1              </td><td>13             </td><td>2010           </td><td>Jan,Apr,Jul,Oct</td></tr>\n",
       "\t<tr><td>3              </td><td>a              </td><td>a              </td><td>14130          </td><td>12             </td><td>2006           </td><td>1              </td><td>14             </td><td>2011           </td><td>Jan,Apr,Jul,Oct</td></tr>\n",
       "\t<tr><td>4              </td><td>c              </td><td>c              </td><td>  620          </td><td> 9             </td><td>2009           </td><td>0              </td><td>NA             </td><td>  NA           </td><td>               </td></tr>\n",
       "\t<tr><td>5              </td><td>a              </td><td>a              </td><td>29910          </td><td> 4             </td><td>2015           </td><td>0              </td><td>NA             </td><td>  NA           </td><td>               </td></tr>\n",
       "\t<tr><td>6              </td><td>a              </td><td>a              </td><td>  310          </td><td>12             </td><td>2013           </td><td>0              </td><td>NA             </td><td>  NA           </td><td>               </td></tr>\n",
       "</tbody>\n",
       "</table>\n"
      ],
      "text/latex": [
       "\\begin{tabular}{r|llllllllll}\n",
       " Store & StoreType & Assortment & CompetitionDistance & CompetitionOpenSinceMonth & CompetitionOpenSinceYear & Promo2 & Promo2SinceWeek & Promo2SinceYear & PromoInterval\\\\\n",
       "\\hline\n",
       "\t 1               & c               & a               &  1270           &  9              & 2008            & 0               & NA              &   NA            &                \\\\\n",
       "\t 2               & a               & a               &   570           & 11              & 2007            & 1               & 13              & 2010            & Jan,Apr,Jul,Oct\\\\\n",
       "\t 3               & a               & a               & 14130           & 12              & 2006            & 1               & 14              & 2011            & Jan,Apr,Jul,Oct\\\\\n",
       "\t 4               & c               & c               &   620           &  9              & 2009            & 0               & NA              &   NA            &                \\\\\n",
       "\t 5               & a               & a               & 29910           &  4              & 2015            & 0               & NA              &   NA            &                \\\\\n",
       "\t 6               & a               & a               &   310           & 12              & 2013            & 0               & NA              &   NA            &                \\\\\n",
       "\\end{tabular}\n"
      ],
      "text/markdown": [
       "\n",
       "Store | StoreType | Assortment | CompetitionDistance | CompetitionOpenSinceMonth | CompetitionOpenSinceYear | Promo2 | Promo2SinceWeek | Promo2SinceYear | PromoInterval | \n",
       "|---|---|---|---|---|---|\n",
       "| 1               | c               | a               |  1270           |  9              | 2008            | 0               | NA              |   NA            |                 | \n",
       "| 2               | a               | a               |   570           | 11              | 2007            | 1               | 13              | 2010            | Jan,Apr,Jul,Oct | \n",
       "| 3               | a               | a               | 14130           | 12              | 2006            | 1               | 14              | 2011            | Jan,Apr,Jul,Oct | \n",
       "| 4               | c               | c               |   620           |  9              | 2009            | 0               | NA              |   NA            |                 | \n",
       "| 5               | a               | a               | 29910           |  4              | 2015            | 0               | NA              |   NA            |                 | \n",
       "| 6               | a               | a               |   310           | 12              | 2013            | 0               | NA              |   NA            |                 | \n",
       "\n",
       "\n"
      ],
      "text/plain": [
       "  Store StoreType Assortment CompetitionDistance CompetitionOpenSinceMonth\n",
       "1 1     c         a           1270                9                       \n",
       "2 2     a         a            570               11                       \n",
       "3 3     a         a          14130               12                       \n",
       "4 4     c         c            620                9                       \n",
       "5 5     a         a          29910                4                       \n",
       "6 6     a         a            310               12                       \n",
       "  CompetitionOpenSinceYear Promo2 Promo2SinceWeek Promo2SinceYear\n",
       "1 2008                     0      NA                NA           \n",
       "2 2007                     1      13              2010           \n",
       "3 2006                     1      14              2011           \n",
       "4 2009                     0      NA                NA           \n",
       "5 2015                     0      NA                NA           \n",
       "6 2013                     0      NA                NA           \n",
       "  PromoInterval  \n",
       "1                \n",
       "2 Jan,Apr,Jul,Oct\n",
       "3 Jan,Apr,Jul,Oct\n",
       "4                \n",
       "5                \n",
       "6                "
      ]
     },
     "metadata": {},
     "output_type": "display_data"
    }
   ],
   "source": [
    "head(store)"
   ]
  },
  {
   "cell_type": "code",
   "execution_count": 11,
   "metadata": {},
   "outputs": [
    {
     "data": {
      "text/plain": [
       "     Store          DayOfWeek          Date                Sales      \n",
       " Min.   :   1.0   Min.   :1.000   Min.   :2013-01-01   Min.   :    0  \n",
       " 1st Qu.: 280.0   1st Qu.:2.000   1st Qu.:2013-08-17   1st Qu.: 3727  \n",
       " Median : 558.0   Median :4.000   Median :2014-04-02   Median : 5744  \n",
       " Mean   : 558.4   Mean   :3.998   Mean   :2014-04-11   Mean   : 5774  \n",
       " 3rd Qu.: 838.0   3rd Qu.:6.000   3rd Qu.:2014-12-12   3rd Qu.: 7856  \n",
       " Max.   :1115.0   Max.   :7.000   Max.   :2015-07-31   Max.   :41551  \n",
       "   Customers           Open            Promo        StateHoliday      \n",
       " Min.   :   0.0   Min.   :0.0000   Min.   :0.0000   Length:1017209    \n",
       " 1st Qu.: 405.0   1st Qu.:1.0000   1st Qu.:0.0000   Class :character  \n",
       " Median : 609.0   Median :1.0000   Median :0.0000   Mode  :character  \n",
       " Mean   : 633.1   Mean   :0.8301   Mean   :0.3815                     \n",
       " 3rd Qu.: 837.0   3rd Qu.:1.0000   3rd Qu.:1.0000                     \n",
       " Max.   :7388.0   Max.   :1.0000   Max.   :1.0000                     \n",
       " SchoolHoliday   \n",
       " Min.   :0.0000  \n",
       " 1st Qu.:0.0000  \n",
       " Median :0.0000  \n",
       " Mean   :0.1786  \n",
       " 3rd Qu.:0.0000  \n",
       " Max.   :1.0000  "
      ]
     },
     "metadata": {},
     "output_type": "display_data"
    },
    {
     "data": {
      "text/plain": [
       "       Id            Store          DayOfWeek         Date          \n",
       " Min.   :    1   Min.   :   1.0   Min.   :1.000   Length:41088      \n",
       " 1st Qu.:10273   1st Qu.: 279.8   1st Qu.:2.000   Class :character  \n",
       " Median :20545   Median : 553.5   Median :4.000   Mode  :character  \n",
       " Mean   :20545   Mean   : 555.9   Mean   :3.979                     \n",
       " 3rd Qu.:30816   3rd Qu.: 832.2   3rd Qu.:6.000                     \n",
       " Max.   :41088   Max.   :1115.0   Max.   :7.000                     \n",
       "                                                                    \n",
       "      Open            Promo        StateHoliday       SchoolHoliday   \n",
       " Min.   :0.0000   Min.   :0.0000   Length:41088       Min.   :0.0000  \n",
       " 1st Qu.:1.0000   1st Qu.:0.0000   Class :character   1st Qu.:0.0000  \n",
       " Median :1.0000   Median :0.0000   Mode  :character   Median :0.0000  \n",
       " Mean   :0.8543   Mean   :0.3958                      Mean   :0.4435  \n",
       " 3rd Qu.:1.0000   3rd Qu.:1.0000                      3rd Qu.:1.0000  \n",
       " Max.   :1.0000   Max.   :1.0000                      Max.   :1.0000  \n",
       " NA's   :11                                                           "
      ]
     },
     "metadata": {},
     "output_type": "display_data"
    }
   ],
   "source": [
    "train <- train[order(Date)]\n",
    "test <- test[order(Date)]\n",
    "summary(train)\n",
    "summary(test)\n",
    "summary(store)\n",
    "# head(train)"
   ]
  },
  {
   "cell_type": "code",
   "execution_count": 12,
   "metadata": {},
   "outputs": [
    {
     "data": {
      "text/html": [
       "<table>\n",
       "<thead><tr><th scope=col>Id</th><th scope=col>Store</th><th scope=col>DayOfWeek</th><th scope=col>Date</th><th scope=col>Open</th><th scope=col>Promo</th><th scope=col>StateHoliday</th><th scope=col>SchoolHoliday</th></tr></thead>\n",
       "<tbody>\n",
       "\t<tr><td>10752     </td><td>622       </td><td>6         </td><td>2015-09-05</td><td>NA        </td><td>0         </td><td>0         </td><td>0         </td></tr>\n",
       "\t<tr><td> 9040     </td><td>622       </td><td>1         </td><td>2015-09-07</td><td>NA        </td><td>0         </td><td>0         </td><td>0         </td></tr>\n",
       "\t<tr><td> 8184     </td><td>622       </td><td>2         </td><td>2015-09-08</td><td>NA        </td><td>0         </td><td>0         </td><td>0         </td></tr>\n",
       "\t<tr><td> 7328     </td><td>622       </td><td>3         </td><td>2015-09-09</td><td>NA        </td><td>0         </td><td>0         </td><td>0         </td></tr>\n",
       "\t<tr><td> 6472     </td><td>622       </td><td>4         </td><td>2015-09-10</td><td>NA        </td><td>0         </td><td>0         </td><td>0         </td></tr>\n",
       "\t<tr><td> 5616     </td><td>622       </td><td>5         </td><td>2015-09-11</td><td>NA        </td><td>0         </td><td>0         </td><td>0         </td></tr>\n",
       "\t<tr><td> 4760     </td><td>622       </td><td>6         </td><td>2015-09-12</td><td>NA        </td><td>0         </td><td>0         </td><td>0         </td></tr>\n",
       "\t<tr><td> 3048     </td><td>622       </td><td>1         </td><td>2015-09-14</td><td>NA        </td><td>1         </td><td>0         </td><td>0         </td></tr>\n",
       "\t<tr><td> 2192     </td><td>622       </td><td>2         </td><td>2015-09-15</td><td>NA        </td><td>1         </td><td>0         </td><td>0         </td></tr>\n",
       "\t<tr><td> 1336     </td><td>622       </td><td>3         </td><td>2015-09-16</td><td>NA        </td><td>1         </td><td>0         </td><td>0         </td></tr>\n",
       "\t<tr><td>  480     </td><td>622       </td><td>4         </td><td>2015-09-17</td><td>NA        </td><td>1         </td><td>0         </td><td>0         </td></tr>\n",
       "</tbody>\n",
       "</table>\n"
      ],
      "text/latex": [
       "\\begin{tabular}{r|llllllll}\n",
       " Id & Store & DayOfWeek & Date & Open & Promo & StateHoliday & SchoolHoliday\\\\\n",
       "\\hline\n",
       "\t 10752      & 622        & 6          & 2015-09-05 & NA         & 0          & 0          & 0         \\\\\n",
       "\t  9040      & 622        & 1          & 2015-09-07 & NA         & 0          & 0          & 0         \\\\\n",
       "\t  8184      & 622        & 2          & 2015-09-08 & NA         & 0          & 0          & 0         \\\\\n",
       "\t  7328      & 622        & 3          & 2015-09-09 & NA         & 0          & 0          & 0         \\\\\n",
       "\t  6472      & 622        & 4          & 2015-09-10 & NA         & 0          & 0          & 0         \\\\\n",
       "\t  5616      & 622        & 5          & 2015-09-11 & NA         & 0          & 0          & 0         \\\\\n",
       "\t  4760      & 622        & 6          & 2015-09-12 & NA         & 0          & 0          & 0         \\\\\n",
       "\t  3048      & 622        & 1          & 2015-09-14 & NA         & 1          & 0          & 0         \\\\\n",
       "\t  2192      & 622        & 2          & 2015-09-15 & NA         & 1          & 0          & 0         \\\\\n",
       "\t  1336      & 622        & 3          & 2015-09-16 & NA         & 1          & 0          & 0         \\\\\n",
       "\t   480      & 622        & 4          & 2015-09-17 & NA         & 1          & 0          & 0         \\\\\n",
       "\\end{tabular}\n"
      ],
      "text/markdown": [
       "\n",
       "Id | Store | DayOfWeek | Date | Open | Promo | StateHoliday | SchoolHoliday | \n",
       "|---|---|---|---|---|---|---|---|---|---|---|\n",
       "| 10752      | 622        | 6          | 2015-09-05 | NA         | 0          | 0          | 0          | \n",
       "|  9040      | 622        | 1          | 2015-09-07 | NA         | 0          | 0          | 0          | \n",
       "|  8184      | 622        | 2          | 2015-09-08 | NA         | 0          | 0          | 0          | \n",
       "|  7328      | 622        | 3          | 2015-09-09 | NA         | 0          | 0          | 0          | \n",
       "|  6472      | 622        | 4          | 2015-09-10 | NA         | 0          | 0          | 0          | \n",
       "|  5616      | 622        | 5          | 2015-09-11 | NA         | 0          | 0          | 0          | \n",
       "|  4760      | 622        | 6          | 2015-09-12 | NA         | 0          | 0          | 0          | \n",
       "|  3048      | 622        | 1          | 2015-09-14 | NA         | 1          | 0          | 0          | \n",
       "|  2192      | 622        | 2          | 2015-09-15 | NA         | 1          | 0          | 0          | \n",
       "|  1336      | 622        | 3          | 2015-09-16 | NA         | 1          | 0          | 0          | \n",
       "|   480      | 622        | 4          | 2015-09-17 | NA         | 1          | 0          | 0          | \n",
       "\n",
       "\n"
      ],
      "text/plain": [
       "   Id    Store DayOfWeek Date       Open Promo StateHoliday SchoolHoliday\n",
       "1  10752 622   6         2015-09-05 NA   0     0            0            \n",
       "2   9040 622   1         2015-09-07 NA   0     0            0            \n",
       "3   8184 622   2         2015-09-08 NA   0     0            0            \n",
       "4   7328 622   3         2015-09-09 NA   0     0            0            \n",
       "5   6472 622   4         2015-09-10 NA   0     0            0            \n",
       "6   5616 622   5         2015-09-11 NA   0     0            0            \n",
       "7   4760 622   6         2015-09-12 NA   0     0            0            \n",
       "8   3048 622   1         2015-09-14 NA   1     0            0            \n",
       "9   2192 622   2         2015-09-15 NA   1     0            0            \n",
       "10  1336 622   3         2015-09-16 NA   1     0            0            \n",
       "11   480 622   4         2015-09-17 NA   1     0            0            "
      ]
     },
     "metadata": {},
     "output_type": "display_data"
    }
   ],
   "source": [
    "test[is.na(test$Open), ]"
   ]
  },
  {
   "cell_type": "code",
   "execution_count": 24,
   "metadata": {},
   "outputs": [
    {
     "data": {
      "text/html": [
       "<ol class=list-inline>\n",
       "\t<li>1</li>\n",
       "\t<li>0</li>\n",
       "\t<li>1</li>\n",
       "\t<li>1</li>\n",
       "\t<li>1</li>\n",
       "\t<li>1</li>\n",
       "\t<li>1</li>\n",
       "\t<li>1</li>\n",
       "\t<li>0</li>\n",
       "\t<li>1</li>\n",
       "\t<li>1</li>\n",
       "\t<li>1</li>\n",
       "\t<li>1</li>\n",
       "\t<li>1</li>\n",
       "\t<li>1</li>\n",
       "\t<li>0</li>\n",
       "\t<li>1</li>\n",
       "\t<li>1</li>\n",
       "\t<li>1</li>\n",
       "\t<li>1</li>\n",
       "\t<li>1</li>\n",
       "\t<li>1</li>\n",
       "\t<li>0</li>\n",
       "\t<li>1</li>\n",
       "\t<li>1</li>\n",
       "\t<li>1</li>\n",
       "\t<li>1</li>\n",
       "\t<li>1</li>\n",
       "\t<li>1</li>\n",
       "\t<li>0</li>\n",
       "\t<li>1</li>\n",
       "\t<li>1</li>\n",
       "\t<li>1</li>\n",
       "\t<li>1</li>\n",
       "\t<li>1</li>\n",
       "\t<li>&lt;NA&gt;</li>\n",
       "\t<li>0</li>\n",
       "\t<li>&lt;NA&gt;</li>\n",
       "\t<li>&lt;NA&gt;</li>\n",
       "\t<li>&lt;NA&gt;</li>\n",
       "\t<li>&lt;NA&gt;</li>\n",
       "\t<li>&lt;NA&gt;</li>\n",
       "\t<li>&lt;NA&gt;</li>\n",
       "\t<li>0</li>\n",
       "\t<li>&lt;NA&gt;</li>\n",
       "\t<li>&lt;NA&gt;</li>\n",
       "\t<li>&lt;NA&gt;</li>\n",
       "\t<li>&lt;NA&gt;</li>\n",
       "</ol>\n"
      ],
      "text/latex": [
       "\\begin{enumerate*}\n",
       "\\item 1\n",
       "\\item 0\n",
       "\\item 1\n",
       "\\item 1\n",
       "\\item 1\n",
       "\\item 1\n",
       "\\item 1\n",
       "\\item 1\n",
       "\\item 0\n",
       "\\item 1\n",
       "\\item 1\n",
       "\\item 1\n",
       "\\item 1\n",
       "\\item 1\n",
       "\\item 1\n",
       "\\item 0\n",
       "\\item 1\n",
       "\\item 1\n",
       "\\item 1\n",
       "\\item 1\n",
       "\\item 1\n",
       "\\item 1\n",
       "\\item 0\n",
       "\\item 1\n",
       "\\item 1\n",
       "\\item 1\n",
       "\\item 1\n",
       "\\item 1\n",
       "\\item 1\n",
       "\\item 0\n",
       "\\item 1\n",
       "\\item 1\n",
       "\\item 1\n",
       "\\item 1\n",
       "\\item 1\n",
       "\\item <NA>\n",
       "\\item 0\n",
       "\\item <NA>\n",
       "\\item <NA>\n",
       "\\item <NA>\n",
       "\\item <NA>\n",
       "\\item <NA>\n",
       "\\item <NA>\n",
       "\\item 0\n",
       "\\item <NA>\n",
       "\\item <NA>\n",
       "\\item <NA>\n",
       "\\item <NA>\n",
       "\\end{enumerate*}\n"
      ],
      "text/markdown": [
       "1. 1\n",
       "2. 0\n",
       "3. 1\n",
       "4. 1\n",
       "5. 1\n",
       "6. 1\n",
       "7. 1\n",
       "8. 1\n",
       "9. 0\n",
       "10. 1\n",
       "11. 1\n",
       "12. 1\n",
       "13. 1\n",
       "14. 1\n",
       "15. 1\n",
       "16. 0\n",
       "17. 1\n",
       "18. 1\n",
       "19. 1\n",
       "20. 1\n",
       "21. 1\n",
       "22. 1\n",
       "23. 0\n",
       "24. 1\n",
       "25. 1\n",
       "26. 1\n",
       "27. 1\n",
       "28. 1\n",
       "29. 1\n",
       "30. 0\n",
       "31. 1\n",
       "32. 1\n",
       "33. 1\n",
       "34. 1\n",
       "35. 1\n",
       "36. &lt;NA&gt;\n",
       "37. 0\n",
       "38. &lt;NA&gt;\n",
       "39. &lt;NA&gt;\n",
       "40. &lt;NA&gt;\n",
       "41. &lt;NA&gt;\n",
       "42. &lt;NA&gt;\n",
       "43. &lt;NA&gt;\n",
       "44. 0\n",
       "45. &lt;NA&gt;\n",
       "46. &lt;NA&gt;\n",
       "47. &lt;NA&gt;\n",
       "48. &lt;NA&gt;\n",
       "\n",
       "\n"
      ],
      "text/plain": [
       " [1]  1  0  1  1  1  1  1  1  0  1  1  1  1  1  1  0  1  1  1  1  1  1  0  1  1\n",
       "[26]  1  1  1  1  0  1  1  1  1  1 NA  0 NA NA NA NA NA NA  0 NA NA NA NA"
      ]
     },
     "metadata": {},
     "output_type": "display_data"
    }
   ],
   "source": [
    "test$Open[test$Store == 622]"
   ]
  },
  {
   "cell_type": "code",
   "execution_count": 26,
   "metadata": {},
   "outputs": [],
   "source": [
    "test[is.na(test)] <- 1"
   ]
  },
  {
   "cell_type": "code",
   "execution_count": 27,
   "metadata": {},
   "outputs": [
    {
     "data": {
      "text/html": [
       "<ol class=list-inline>\n",
       "\t<li>1</li>\n",
       "\t<li>0</li>\n",
       "\t<li>1</li>\n",
       "\t<li>1</li>\n",
       "\t<li>1</li>\n",
       "\t<li>1</li>\n",
       "\t<li>1</li>\n",
       "\t<li>1</li>\n",
       "\t<li>0</li>\n",
       "\t<li>1</li>\n",
       "\t<li>1</li>\n",
       "\t<li>1</li>\n",
       "\t<li>1</li>\n",
       "\t<li>1</li>\n",
       "\t<li>1</li>\n",
       "\t<li>0</li>\n",
       "\t<li>1</li>\n",
       "\t<li>1</li>\n",
       "\t<li>1</li>\n",
       "\t<li>1</li>\n",
       "\t<li>1</li>\n",
       "\t<li>1</li>\n",
       "\t<li>0</li>\n",
       "\t<li>1</li>\n",
       "\t<li>1</li>\n",
       "\t<li>1</li>\n",
       "\t<li>1</li>\n",
       "\t<li>1</li>\n",
       "\t<li>1</li>\n",
       "\t<li>0</li>\n",
       "\t<li>1</li>\n",
       "\t<li>1</li>\n",
       "\t<li>1</li>\n",
       "\t<li>1</li>\n",
       "\t<li>1</li>\n",
       "\t<li>1</li>\n",
       "\t<li>0</li>\n",
       "\t<li>1</li>\n",
       "\t<li>1</li>\n",
       "\t<li>1</li>\n",
       "\t<li>1</li>\n",
       "\t<li>1</li>\n",
       "\t<li>1</li>\n",
       "\t<li>0</li>\n",
       "\t<li>1</li>\n",
       "\t<li>1</li>\n",
       "\t<li>1</li>\n",
       "\t<li>1</li>\n",
       "</ol>\n"
      ],
      "text/latex": [
       "\\begin{enumerate*}\n",
       "\\item 1\n",
       "\\item 0\n",
       "\\item 1\n",
       "\\item 1\n",
       "\\item 1\n",
       "\\item 1\n",
       "\\item 1\n",
       "\\item 1\n",
       "\\item 0\n",
       "\\item 1\n",
       "\\item 1\n",
       "\\item 1\n",
       "\\item 1\n",
       "\\item 1\n",
       "\\item 1\n",
       "\\item 0\n",
       "\\item 1\n",
       "\\item 1\n",
       "\\item 1\n",
       "\\item 1\n",
       "\\item 1\n",
       "\\item 1\n",
       "\\item 0\n",
       "\\item 1\n",
       "\\item 1\n",
       "\\item 1\n",
       "\\item 1\n",
       "\\item 1\n",
       "\\item 1\n",
       "\\item 0\n",
       "\\item 1\n",
       "\\item 1\n",
       "\\item 1\n",
       "\\item 1\n",
       "\\item 1\n",
       "\\item 1\n",
       "\\item 0\n",
       "\\item 1\n",
       "\\item 1\n",
       "\\item 1\n",
       "\\item 1\n",
       "\\item 1\n",
       "\\item 1\n",
       "\\item 0\n",
       "\\item 1\n",
       "\\item 1\n",
       "\\item 1\n",
       "\\item 1\n",
       "\\end{enumerate*}\n"
      ],
      "text/markdown": [
       "1. 1\n",
       "2. 0\n",
       "3. 1\n",
       "4. 1\n",
       "5. 1\n",
       "6. 1\n",
       "7. 1\n",
       "8. 1\n",
       "9. 0\n",
       "10. 1\n",
       "11. 1\n",
       "12. 1\n",
       "13. 1\n",
       "14. 1\n",
       "15. 1\n",
       "16. 0\n",
       "17. 1\n",
       "18. 1\n",
       "19. 1\n",
       "20. 1\n",
       "21. 1\n",
       "22. 1\n",
       "23. 0\n",
       "24. 1\n",
       "25. 1\n",
       "26. 1\n",
       "27. 1\n",
       "28. 1\n",
       "29. 1\n",
       "30. 0\n",
       "31. 1\n",
       "32. 1\n",
       "33. 1\n",
       "34. 1\n",
       "35. 1\n",
       "36. 1\n",
       "37. 0\n",
       "38. 1\n",
       "39. 1\n",
       "40. 1\n",
       "41. 1\n",
       "42. 1\n",
       "43. 1\n",
       "44. 0\n",
       "45. 1\n",
       "46. 1\n",
       "47. 1\n",
       "48. 1\n",
       "\n",
       "\n"
      ],
      "text/plain": [
       " [1] 1 0 1 1 1 1 1 1 0 1 1 1 1 1 1 0 1 1 1 1 1 1 0 1 1 1 1 1 1 0 1 1 1 1 1 1 0 1\n",
       "[39] 1 1 1 1 1 0 1 1 1 1"
      ]
     },
     "metadata": {},
     "output_type": "display_data"
    }
   ],
   "source": [
    "test$Open[test$Store == 622]"
   ]
  },
  {
   "cell_type": "code",
   "execution_count": 43,
   "metadata": {},
   "outputs": [
    {
     "name": "stderr",
     "output_type": "stream",
     "text": [
      "geom_path: Each group consists of only one observation. Do you need to adjust\n",
      "the group aesthetic?\n"
     ]
    },
    {
     "data": {},
     "metadata": {},
     "output_type": "display_data"
    },
    {
     "ename": "ERROR",
     "evalue": "Error in png(tf, width, height, \"in\", pointsize, bg, res, antialias = antialias): 无法启动png()装置\n",
     "output_type": "error",
     "traceback": [
      "Error in png(tf, width, height, \"in\", pointsize, bg, res, antialias = antialias): 无法启动png()装置\nTraceback:\n"
     ]
    },
    {
     "data": {
      "text/plain": [
       "plot without title"
      ]
     },
     "metadata": {},
     "output_type": "display_data"
    }
   ],
   "source": [
    "by_Date <- train %>% group_by(Date) %>% summarise(NumStores=n())\n",
    "ggplot(by_Date, aes(Date,NumStores)) + geom_line()"
   ]
  },
  {
   "cell_type": "code",
   "execution_count": null,
   "metadata": {},
   "outputs": [],
   "source": []
  }
 ],
 "metadata": {
  "kernelspec": {
   "display_name": "R",
   "language": "R",
   "name": "ir"
  },
  "language_info": {
   "codemirror_mode": "r",
   "file_extension": ".r",
   "mimetype": "text/x-r-source",
   "name": "R",
   "pygments_lexer": "r",
   "version": "3.4.4"
  }
 },
 "nbformat": 4,
 "nbformat_minor": 2
}
